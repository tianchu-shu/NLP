{
 "cells": [
  {
   "cell_type": "markdown",
   "metadata": {},
   "source": [
    "# DIGS 20006/30006 : NLP Assignment 3"
   ]
  },
  {
   "cell_type": "code",
   "execution_count": 5,
   "metadata": {},
   "outputs": [],
   "source": [
    "import nltk\n",
    "from nltk.corpus import words\n",
    "from nltk.corpus import wordnet "
   ]
  },
  {
   "cell_type": "code",
   "execution_count": 6,
   "metadata": {},
   "outputs": [],
   "source": [
    "import matplotlib.pyplot as plt\n",
    "%matplotlib inline  "
   ]
  },
  {
   "cell_type": "code",
   "execution_count": 7,
   "metadata": {},
   "outputs": [],
   "source": [
    "import spacy\n",
    "nlp = spacy.load('en_core_web_sm')"
   ]
  },
  {
   "cell_type": "code",
   "execution_count": 8,
   "metadata": {},
   "outputs": [],
   "source": [
    "from spacy.tokenizer import Tokenizer\n",
    "tokenizer = Tokenizer(nlp.vocab)"
   ]
  },
  {
   "cell_type": "markdown",
   "metadata": {},
   "source": [
    "## Load the text"
   ]
  },
  {
   "cell_type": "markdown",
   "metadata": {},
   "source": [
    "I have chosen 'The Count of Monte Cristo' By Alexandre Dumas."
   ]
  },
  {
   "cell_type": "code",
   "execution_count": 128,
   "metadata": {},
   "outputs": [],
   "source": [
    "with open(\"MC.txt\") as f:\n",
    "    content = f.read().splitlines()\n",
    "    #content = list(filter(None, content))\n",
    "    content = \" \".join(content)\n",
    "    content = content.lower()"
   ]
  },
  {
   "cell_type": "code",
   "execution_count": 129,
   "metadata": {},
   "outputs": [
    {
     "data": {
      "text/plain": [
       "'chapter 1. marseilles—the arrival  on the 24th of february, 1815, the look-out at notre-dame de la garde signalled the three-master, the pharaon from smyrna, trieste, and naples.  as usual, a pilot put off immediately, and rounding the château d’if, got on board the vessel between cape morgiou and rion island.  immediately, and according to custom, the ramparts of fort saint-jean were covered with spectators; it is always an event at marseilles for a ship to come into port, especially when this ship, like the pharaon, has been built, rigged, and laden at the old phocee docks, and belongs to an owner of the city.  the ship drew on and had safely passed the strait, which some volcanic shock has made between the calasareigne and jaros islands; had doubled pomègue, and approached the harbor under topsails, jib, and spanker, but so slowly and sedately that the idlers, with that instinct which is the forerunner of evil, asked one another what misfortune could have happened on board. however,'"
      ]
     },
     "execution_count": 129,
     "metadata": {},
     "output_type": "execute_result"
    }
   ],
   "source": [
    "content[:1000]"
   ]
  },
  {
   "cell_type": "code",
   "execution_count": 130,
   "metadata": {},
   "outputs": [
    {
     "name": "stdout",
     "output_type": "stream",
     "text": [
      "The raw length of my text is 2617253\n"
     ]
    }
   ],
   "source": [
    "print(\"The raw length of my text is %d\" % len(content))"
   ]
  },
  {
   "cell_type": "markdown",
   "metadata": {},
   "source": [
    "## 1. Use NLTK & SpaCy to tokenize the text"
   ]
  },
  {
   "cell_type": "code",
   "execution_count": 131,
   "metadata": {},
   "outputs": [
    {
     "name": "stdout",
     "output_type": "stream",
     "text": [
      "['chapter', '1.', 'marseilles—the', 'arrival', 'on', 'the', '24th', 'of', 'february', ',', '1815', ',', 'the', 'look-out', 'at', 'notre-dame', 'de', 'la', 'garde', 'signalled', 'the', 'three-master', ',', 'the', 'pharaon', 'from', 'smyrna', ',', 'trieste', ',', 'and', 'naples', '.', 'as', 'usual', ',', 'a', 'pilot', 'put', 'off', 'immediately', ',', 'and', 'rounding', 'the', 'château', 'd', '’', 'if', ',', 'got', 'on', 'board', 'the', 'vessel', 'between', 'cape', 'morgiou', 'and', 'rion', 'island', '.', 'immediately', ',', 'and', 'according', 'to', 'custom', ',', 'the', 'ramparts', 'of', 'fort', 'saint-jean', 'were', 'covered', 'with', 'spectators', ';', 'it', 'is', 'always', 'an', 'event', 'at', 'marseilles', 'for', 'a', 'ship', 'to', 'come', 'into', 'port', ',', 'especially', 'when', 'this', 'ship', ',', 'like']\n"
     ]
    }
   ],
   "source": [
    "nltk_tokens = nltk.word_tokenize(content)\n",
    "print(nltk_tokens[:100])"
   ]
  },
  {
   "cell_type": "code",
   "execution_count": 132,
   "metadata": {},
   "outputs": [],
   "source": [
    "spacy_tokens = tokenizer(content)\n",
    "stokens = []\n",
    "for token in spacy_tokens:\n",
    "    stokens.append(token.text)"
   ]
  },
  {
   "cell_type": "code",
   "execution_count": 133,
   "metadata": {},
   "outputs": [
    {
     "data": {
      "text/plain": [
       "spacy.tokens.doc.Doc"
      ]
     },
     "execution_count": 133,
     "metadata": {},
     "output_type": "execute_result"
    }
   ],
   "source": [
    "type(spacy_tokens)"
   ]
  },
  {
   "cell_type": "code",
   "execution_count": 134,
   "metadata": {},
   "outputs": [
    {
     "name": "stdout",
     "output_type": "stream",
     "text": [
      "The number of NLTK tokens is 570102\n",
      "The number of SpaCy tokens is 474926\n"
     ]
    }
   ],
   "source": [
    "print(\"The number of NLTK tokens is %d\" % len(nltk_tokens))\n",
    "print(\"The number of SpaCy tokens is %d\" % len(stokens))"
   ]
  },
  {
   "cell_type": "code",
   "execution_count": 135,
   "metadata": {},
   "outputs": [
    {
     "name": "stdout",
     "output_type": "stream",
     "text": [
      "The unique number of NLTK tokens is 20925\n",
      "The unique number of SpaCy tokens is 38082\n"
     ]
    }
   ],
   "source": [
    "print(\"The unique number of NLTK tokens is %d\" % len(set(nltk_tokens)))\n",
    "print(\"The unique number of SpaCy tokens is %d\" % len(set(stokens)))"
   ]
  },
  {
   "cell_type": "code",
   "execution_count": 136,
   "metadata": {},
   "outputs": [],
   "source": [
    "def common_token(a, b): \n",
    "    a_set = set(a) \n",
    "    b_set = set(b) \n",
    "    return (a_set & b_set)"
   ]
  },
  {
   "cell_type": "code",
   "execution_count": 137,
   "metadata": {},
   "outputs": [],
   "source": [
    "common = common_token(nltk_tokens, stokens)"
   ]
  },
  {
   "cell_type": "code",
   "execution_count": 138,
   "metadata": {},
   "outputs": [
    {
     "name": "stdout",
     "output_type": "stream",
     "text": [
      "The number of common tokens in both is 16731\n",
      "The number of unique tokens in NLTK is 21351\n",
      "The number of unique tokens in SpaCy is 4194\n"
     ]
    }
   ],
   "source": [
    "print(\"The number of common tokens in both is %d\" % len(common))\n",
    "print(\"The number of unique tokens in NLTK is %d\" % (len(set(stokens))-len(common)))\n",
    "print(\"The number of unique tokens in SpaCy is %d\" % (len(set(nltk_tokens))-len(common)))"
   ]
  },
  {
   "cell_type": "markdown",
   "metadata": {},
   "source": [
    "## 2. Regular Expression"
   ]
  },
  {
   "cell_type": "code",
   "execution_count": 139,
   "metadata": {},
   "outputs": [],
   "source": [
    "import re"
   ]
  },
  {
   "cell_type": "code",
   "execution_count": 140,
   "metadata": {},
   "outputs": [],
   "source": [
    "test = \"fed age alling added bing cleaned'\""
   ]
  },
  {
   "cell_type": "code",
   "execution_count": 141,
   "metadata": {},
   "outputs": [
    {
     "data": {
      "text/plain": [
       "['alling', 'added']"
      ]
     },
     "execution_count": 141,
     "metadata": {},
     "output_type": "execute_result"
    }
   ],
   "source": [
    "re.findall(r\"\\ba[A-Za-z]*ing\\b|\\ba[A-Za-z]*ed\\b]*\\b\", test)"
   ]
  },
  {
   "cell_type": "code",
   "execution_count": 142,
   "metadata": {},
   "outputs": [],
   "source": [
    "#a. All words beginning with a– and ending in –ing or –ed.\n",
    "inged = set(re.findall(r\"\\ba[A-Za-z]*ing\\b|\\ba[A-Za-z]*ed\\b]*\\b\", content))"
   ]
  },
  {
   "cell_type": "code",
   "execution_count": 143,
   "metadata": {},
   "outputs": [
    {
     "name": "stdout",
     "output_type": "stream",
     "text": [
      "{'appeased', 'awaited', 'according', 'attacked', 'aiding', 'acknowledging', 'abandoned', 'allowing', 'astounded', 'approaching', 'advertised', 'accounted', 'awning', 'assumed', 'acting', 'attired', 'assembled', 'attained', 'anticipated', 'apprehending', 'astonishing', 'attached', 'accumulated', 'attuned', 'amounted', 'anything', 'accosting', 'accounting', 'appreciated', 'attended', 'addressed', 'addicted', 'abetted', 'attempted', 'asked', 'appeared', 'affirmed', 'awed', 'admitted', 'afflicted', 'accustomed', 'attracted', 'accomplished', 'arrested', 'absolved', 'aroused', 'announcing', 'ascertained', 'addressing', 'agreed', 'appointed', 'annulled', 'adhering', 'advocated', 'approved', 'amusing', 'advised', 'appealing', 'answered', 'attracting', 'anticipating', 'allotted', 'affected', 'allowed', 'alluring', 'anchored', 'awakening', 'abdicated', 'anchoring', 'ascertaining', 'accumulating', 'alleviated', 'ashamed', 'attributing', 'accomplishing', 'attacking', 'apprised', 'acquitted', 'antiquated', 'acted', 'articulating', 'adjourned', 'allying', 'argued', 'availed', 'authorized', 'associating', 'amazing', 'adjoining', 'arousing', 'accusing', 'advanced', 'appalled', 'affixed', 'appetizing', 'adored', 'accompanying', 'awakened', 'aided', 'ascending', 'accelerating', 'awaking', 'aching', 'astounding', 'avenging', 'awarded', 'accepting', 'avenged', 'amused', 'alarming', 'adopted', 'abased', 'animated', 'awaiting', 'accorded', 'adopting', 'amassed', 'alluding', 'accosted', 'announced', 'aspiring', 'adding', 'aimed', 'ached', 'abolished', 'assured', 'accursed', 'abandoning', 'awaked', 'admitting', 'annoyed', 'applying', 'abated', 'adapted', 'annoying', 'advising', 'assailed', 'assisted', 'abjured', 'arrived', 'advancing', 'absorbing', 'arming', 'amounting', 'appearing', 'altered', 'associated', 'arriving', 'affording', 'affianced', 'astonished', 'arranging', 'assassinated', 'attaching', 'admiring', 'anointed', 'accompanied', 'attending', 'adjusted', 'ascended', 'agonizing', 'arresting', 'afforded', 'alienated', 'abstracted', 'assuring', 'administered', 'alluded', 'analyzed', 'assigned', 'answering', 'alleging', 'administering', 'applied', 'allied', 'arranged', 'aged', 'applauding', 'attributed', 'armed', 'apprehended', 'accustoming', 'absorbed', 'avoiding', 'assuming', 'accepted', 'appalling', 'assented', 'asking', 'affecting', 'acknowledged', 'arising', 'asserting', 'augmented', 'ambled', 'arched', 'acceded', 'alighting', 'alternating', 'apologizing', 'alighted', 'abused', 'actuated', 'arrayed', 'asserted', 'achieved', 'adorned', 'agonized', 'acquainted', 'adjoined', 'admired', 'acquired', 'alarmed', 'agitated', 'averting', 'abounded', 'appropriated', 'added', 'adjusting', 'atoning', 'assigning', 'avowed', 'aggravated', 'annotating', 'approached', 'avoided', 'availing', 'approving', 'attempting', 'appealed', 'accused', 'apologized', 'attested', 'assisting', 'amazed'}\n"
     ]
    }
   ],
   "source": [
    "print(inged)"
   ]
  },
  {
   "cell_type": "code",
   "execution_count": 144,
   "metadata": {},
   "outputs": [],
   "source": [
    "#b. All words with –ing– in the middle of the word.\n",
    "pattern = \"ing\"\n",
    "m = set(re.findall(r\"\\b[A-Za-z]+ing[a-z]+\\b\", content))"
   ]
  },
  {
   "cell_type": "code",
   "execution_count": 145,
   "metadata": {},
   "outputs": [
    {
     "name": "stdout",
     "output_type": "stream",
     "text": [
      "{'laughingly', 'extinguishers', 'workingman', 'paintings', 'turnings', 'meaningless', 'extinguish', 'fastenings', 'exceedingly', 'single', 'glimmerings', 'kingdom', 'strings', 'infringed', 'flickerings', 'clinging', 'mingled', 'drawings', 'failings', 'unhesitatingly', 'ravellings', 'forebodings', 'distinguishable', 'fingers', 'grudgingly', 'hangings', 'doubtingly', 'buildings', 'tinged', 'nightingale', 'lingered', 'stockings', 'inquiringly', 'winged', 'contingency', 'distinguishing', 'openings', 'jingling', 'mingle', 'furnishings', 'assentingly', 'encouragingly', 'accordingly', 'mingling', 'lingering', 'charmingly', 'tremblingly', 'coverings', 'blessings', 'grumblingly', 'linguist', 'moorings', 'stingy', 'carvings', 'strikingly', 'distinguished', 'fringe', 'smilingly', 'evenings', 'frowningly', 'feelings', 'singular', 'singing', 'surroundings', 'untiringly', 'clings', 'distinguish', 'fringed', 'intermingled', 'tinge', 'jingled', 'hesitatingly', 'brings', 'sings', 'nightingales', 'flinging', 'insultingly', 'musings', 'unwillingness', 'gratings', 'revoltingly', 'sufferings', 'beatings', 'kingdoms', 'singularly', 'confidingly', 'proceedings', 'singers', 'hinges', 'willingly', 'meetings', 'kings', 'stings', 'amusingly', 'jottings', 'linguistic', 'cravings', 'unwillingly', 'nothingness', 'ringing', 'bringing', 'beings', 'springing', 'extinguishing', 'tidings', 'despairingly', 'rings', 'misgivings', 'gnawings', 'yearnings', 'throbbings', 'surpassingly', 'unresistingly', 'scrutinizingly', 'willingness', 'springtide', 'doings', 'lingua', 'earrings', 'wringing', 'dingy', 'windings', 'lingers', 'sayings', 'mouldings', 'singularity', 'underlings', 'extinguished', 'infringement', 'becomingly', 'things', 'unwittingly', 'linger', 'railings', 'wings', 'bearings', 'whitings', 'springs', 'finger', 'dealings', 'singer'}\n"
     ]
    }
   ],
   "source": [
    "print(m)"
   ]
  },
  {
   "cell_type": "code",
   "execution_count": 146,
   "metadata": {},
   "outputs": [],
   "source": [
    "#c. After removing all punctuation, provide a count of all words in your text containing\n",
    "#numbers or punctuation and letters (if any).\n",
    "clean = re.sub(r'[^\\w\\s\\d]',' ', content) "
   ]
  },
  {
   "cell_type": "code",
   "execution_count": 147,
   "metadata": {},
   "outputs": [
    {
     "name": "stdout",
     "output_type": "stream",
     "text": [
      "The raw length of my text without punctuation is 2617253\n"
     ]
    }
   ],
   "source": [
    "print(\"The raw length of my text without punctuation is %d\" % len(clean))"
   ]
  },
  {
   "cell_type": "code",
   "execution_count": 148,
   "metadata": {},
   "outputs": [],
   "source": [
    "mixed_word = re.findall(\"\\w*[\\d@]\\w*\", content)\n",
    "#re.findall('[A-Za-z]+[\\d@]+[\\w@]*|[\\d@]+[A-Za-z]+[\\w@]*', content)"
   ]
  },
  {
   "cell_type": "code",
   "execution_count": 149,
   "metadata": {},
   "outputs": [
    {
     "name": "stdout",
     "output_type": "stream",
     "text": [
      "['1', '24th', '1815', '0023m', '25', '000', '0025m', '0027m', '0029m', '2']\n"
     ]
    }
   ],
   "source": [
    "print(mixed_word[:10])"
   ]
  },
  {
   "cell_type": "code",
   "execution_count": 150,
   "metadata": {},
   "outputs": [
    {
     "name": "stdout",
     "output_type": "stream",
     "text": [
      "The count of all words in my text containing numbers is 1332\n"
     ]
    }
   ],
   "source": [
    "print(\"The count of all words in my text containing numbers is %d\" % len(mixed_word))"
   ]
  },
  {
   "cell_type": "markdown",
   "metadata": {},
   "source": [
    "## 3. A selection of different “stems” from the 3 NLTK stemmers"
   ]
  },
  {
   "cell_type": "code",
   "execution_count": 151,
   "metadata": {},
   "outputs": [
    {
     "name": "stdout",
     "output_type": "stream",
     "text": [
      "['will', 'come', 'on', 'board', ',', 'm.', 'morrel', ',', '”', 'said', 'dantès', ',', 'observing', 'the', 'owner', '’', 's', 'impatience', ',', '“', 'here', 'is', 'your', 'supercargo', ',', 'm.', 'danglars', ',', 'coming', 'out', 'of', 'his', 'cabin', ',', 'who', 'will', 'furnish', 'you', 'with', 'every', 'particular', '.', 'as', 'for', 'me', ',', 'i', 'must', 'look', 'after', 'the', 'anchoring', ',', 'and', 'dress', 'the', 'ship', 'in', 'mourning.', '”', 'the', 'owner', 'did', 'not', 'wait', 'for', 'a', 'second', 'invitation', '.', 'he', 'seized', 'a', 'rope', 'which', 'dantès', 'flung', 'to', 'him', ',', 'and', 'with', 'an', 'activity', 'that', 'would', 'have', 'done', 'credit', 'to', 'a', 'sailor', ',', 'climbed', 'up', 'the', 'side', 'of', 'the', 'ship']\n"
     ]
    }
   ],
   "source": [
    "# Raw token\n",
    "print(nltk_tokens[1000:1100])"
   ]
  },
  {
   "cell_type": "code",
   "execution_count": 152,
   "metadata": {},
   "outputs": [
    {
     "name": "stdout",
     "output_type": "stream",
     "text": [
      "['did', 'veri', 'right', ',', 'dantè', ',', 'to', 'follow', 'captain', 'lecler', '’', 's', 'instruct', ',', 'and', 'touch', 'at', 'elba', ',', 'although', 'if', 'it', 'were', 'known', 'that', 'you', 'had', 'convey', 'a', 'packet', 'to', 'the', 'marshal', ',', 'and', 'had', 'convers', 'with', 'the', 'emperor', ',', 'it', 'might', 'bring', 'you', 'into', 'trouble.', '”', '0027m', '“', 'how', 'could', 'that', 'bring', 'me', 'into', 'troubl', ',', 'sir', '?', '”', 'ask', 'dantè', ';', '“', 'for', 'i', 'did', 'not', 'even', 'know', 'of', 'what', 'i', 'wa', 'the', 'bearer', ';', 'and', 'the', 'emperor', 'mere', 'made', 'such', 'inquiri', 'as', 'he', 'would', 'of', 'the', 'first', 'comer', '.', 'but', ',', 'pardon', 'me', ',', 'here', 'are']\n"
     ]
    }
   ],
   "source": [
    "# Porter\n",
    "from nltk.stem import PorterStemmer\n",
    "ps = PorterStemmer()\n",
    "print([ps.stem(word) for word in nltk_tokens[2100:2200]])"
   ]
  },
  {
   "cell_type": "code",
   "execution_count": 153,
   "metadata": {},
   "outputs": [
    {
     "name": "stdout",
     "output_type": "stream",
     "text": [
      "['wil', 'com', 'on', 'board', ',', 'm.', 'morrel', ',', '”', 'said', 'dantè', ',', 'observ', 'the', 'own', '’', 's', 'impaty', ',', '“', 'her', 'is', 'yo', 'supercargo', ',', 'm.', 'dangl', ',', 'com', 'out', 'of', 'his', 'cabin', ',', 'who', 'wil', 'furn', 'you', 'with', 'every', 'particul', '.', 'as', 'for', 'me', ',', 'i', 'must', 'look', 'aft', 'the', 'anch', ',', 'and', 'dress', 'the', 'ship', 'in', 'mourning.', '”', 'the', 'own', 'did', 'not', 'wait', 'for', 'a', 'second', 'invit', '.', 'he', 'seiz', 'a', 'rop', 'which', 'dantè', 'flung', 'to', 'him', ',', 'and', 'with', 'an', 'act', 'that', 'would', 'hav', 'don', 'credit', 'to', 'a', 'sail', ',', 'climb', 'up', 'the', 'sid', 'of', 'the', 'ship']\n"
     ]
    }
   ],
   "source": [
    "# Lancaster\n",
    "from nltk.stem import LancasterStemmer\n",
    "lc = LancasterStemmer()\n",
    "print([lc.stem(word) for word in nltk_tokens[1000:1100]])"
   ]
  },
  {
   "cell_type": "code",
   "execution_count": 154,
   "metadata": {},
   "outputs": [],
   "source": [
    "# Snowball\n",
    "from nltk.stem.snowball import SnowballStemmer\n",
    "snowball = SnowballStemmer(\"english\")"
   ]
  },
  {
   "cell_type": "code",
   "execution_count": 155,
   "metadata": {
    "scrolled": true
   },
   "outputs": [
    {
     "name": "stdout",
     "output_type": "stream",
     "text": [
      "['will', 'come', 'on', 'board', ',', 'm.', 'morrel', ',', '”', 'said', 'dantè', ',', 'observ', 'the', 'owner', '’', 's', 'impati', ',', '“', 'here', 'is', 'your', 'supercargo', ',', 'm.', 'danglar', ',', 'come', 'out', 'of', 'his', 'cabin', ',', 'who', 'will', 'furnish', 'you', 'with', 'everi', 'particular', '.', 'as', 'for', 'me', ',', 'i', 'must', 'look', 'after', 'the', 'anchor', ',', 'and', 'dress', 'the', 'ship', 'in', 'mourning.', '”', 'the', 'owner', 'did', 'not', 'wait', 'for', 'a', 'second', 'invit', '.', 'he', 'seiz', 'a', 'rope', 'which', 'dantè', 'flung', 'to', 'him', ',', 'and', 'with', 'an', 'activ', 'that', 'would', 'have', 'done', 'credit', 'to', 'a', 'sailor', ',', 'climb', 'up', 'the', 'side', 'of', 'the', 'ship']\n"
     ]
    }
   ],
   "source": [
    "print([snowball.stem(word) for word in nltk_tokens[1000:1100]])"
   ]
  },
  {
   "cell_type": "markdown",
   "metadata": {},
   "source": [
    "## 4. Lemmas"
   ]
  },
  {
   "cell_type": "code",
   "execution_count": 156,
   "metadata": {},
   "outputs": [
    {
     "name": "stdout",
     "output_type": "stream",
     "text": [
      "The unique Lemmas(NLTK) is 19095\n"
     ]
    }
   ],
   "source": [
    "# NLTK\n",
    "from nltk.stem import WordNetLemmatizer\n",
    "wl = WordNetLemmatizer()\n",
    "nltk_lemmas = [wl.lemmatize(word) for word in nltk_tokens]\n",
    "print(\"The unique Lemmas(NLTK) is %d\" % len(set(nltk_lemmas)))"
   ]
  },
  {
   "cell_type": "code",
   "execution_count": 157,
   "metadata": {},
   "outputs": [
    {
     "name": "stdout",
     "output_type": "stream",
     "text": [
      "The unique Lemmas(SpaCy) is 33871\n"
     ]
    }
   ],
   "source": [
    "# SpaCy\n",
    "spacy_lemmas = [token.lemma_ for token in spacy_tokens]\n",
    "print(\"The unique Lemmas(SpaCy) is %d\" % len(set(spacy_lemmas)))"
   ]
  },
  {
   "cell_type": "code",
   "execution_count": 162,
   "metadata": {},
   "outputs": [
    {
     "name": "stdout",
     "output_type": "stream",
     "text": [
      "['chapter', '1.', 'marseilles—the', 'arrival', 'on', 'the', '24th', 'of', 'february', ',', '1815', ',', 'the', 'look-out', 'at', 'notre-dame', 'de', 'la', 'garde', 'signalled', 'the', 'three-master', ',', 'the', 'pharaon', 'from', 'smyrna', ',', 'trieste', ',', 'and', 'naples', '.', 'as', 'usual', ',', 'a', 'pilot', 'put', 'off', 'immediately', ',', 'and', 'rounding', 'the', 'château', 'd', '’', 'if', ',', 'got', 'on', 'board', 'the', 'vessel', 'between', 'cape', 'morgiou', 'and', 'rion', 'island', '.', 'immediately', ',', 'and', 'according', 'to', 'custom', ',', 'the', 'ramparts', 'of', 'fort', 'saint-jean', 'were', 'covered', 'with', 'spectators', ';', 'it', 'is', 'always', 'an', 'event', 'at', 'marseilles', 'for', 'a', 'ship', 'to', 'come', 'into', 'port', ',', 'especially', 'when', 'this', 'ship', ',', 'like']\n",
      "\n",
      "['chapter', '1.', 'marseilles—the', 'arrival', 'on', 'the', '24th', 'of', 'february', ',', '1815', ',', 'the', 'look-out', 'at', 'notre-dame', 'de', 'la', 'garde', 'signalled', 'the', 'three-master', ',', 'the', 'pharaon', 'from', 'smyrna', ',', 'trieste', ',', 'and', 'naples', '.', 'a', 'usual', ',', 'a', 'pilot', 'put', 'off', 'immediately', ',', 'and', 'rounding', 'the', 'château', 'd', '’', 'if', ',', 'got', 'on', 'board', 'the', 'vessel', 'between', 'cape', 'morgiou', 'and', 'rion', 'island', '.', 'immediately', ',', 'and', 'according', 'to', 'custom', ',', 'the', 'rampart', 'of', 'fort', 'saint-jean', 'were', 'covered', 'with', 'spectator', ';', 'it', 'is', 'always', 'an', 'event', 'at', 'marseille', 'for', 'a', 'ship', 'to', 'come', 'into', 'port', ',', 'especially', 'when', 'this', 'ship', ',', 'like']\n",
      "\n",
      "['chapter', '1.', 'marseilles—the', 'arrival', ' ', 'on', 'the', '24th', 'of', 'february,', '1815,', 'the', 'look-out', 'at', 'notre-dame', 'de', 'la', 'garde', 'signal', 'the', 'three-master,', 'the', 'pharaon', 'from', 'smyrna,', 'trieste,', 'and', 'naples.', ' ', 'a', 'usual,', 'a', 'pilot', 'put', 'off', 'immediately,', 'and', 'round', 'the', 'château', 'd’if,', 'get', 'on', 'board', 'the', 'vessel', 'between', 'cape', 'morgiou', 'and', 'rion', 'island.', ' ', 'immediately,', 'and', 'accord', 'to', 'custom,', 'the', 'rampart', 'of', 'fort', 'saint-jean', 'be', 'cover', 'with', 'spectators;', 'it', 'be', 'always', 'a', 'event', 'at', 'marseilles', 'for', 'a', 'ship', 'to', 'come', 'into', 'port,', 'especially', 'when', 'this', 'ship,', 'like', 'the', 'pharaon,', 'have', 'be', 'built,', 'rigged,', 'and', 'lade', 'at', 'the', 'old', 'phocee', 'docks,', 'and']\n"
     ]
    }
   ],
   "source": [
    "print(nltk_tokens[:100])\n",
    "print(\"\")\n",
    "print(nltk_lemmas[:100])\n",
    "print(\"\")\n",
    "print(spacy_lemmas[:100])"
   ]
  },
  {
   "cell_type": "markdown",
   "metadata": {},
   "source": [
    "For the same text, using NLTK lemmatizer ended up getting a smaller unique number of lemmas than SpaCy."
   ]
  },
  {
   "cell_type": "markdown",
   "metadata": {},
   "source": [
    "## 5. Findings"
   ]
  },
  {
   "cell_type": "markdown",
   "metadata": {},
   "source": [
    "NLTK provides 9 different stemming libraries, allow users to finely customize their model. But this can be a hindrance. Which algorithm performs the best? Which is the fastest? Which is being maintained?\n",
    "In contrast, spaCy implements a single stemmer, the one that the spaCy developers feel to be best. I guess sometimes it's easier when I have no other choices.\n",
    "\n",
    "NLTK is a string processing library. All the tools take strings as input and return strings or lists of strings as output. \n",
    "On the other hand, spaCy uses an object-oriented approach. Parsing some text returns an object. Each of these objects has a number of useful attributes and methods. This object-oriented approach lends itself to be more Pythonic than does the string-handling system of NLTK. We can expect spaCy may outperform NLTK in speed when dealing with larger text data.\n"
   ]
  }
 ],
 "metadata": {
  "kernelspec": {
   "display_name": "Python 3",
   "language": "python",
   "name": "python3"
  },
  "language_info": {
   "codemirror_mode": {
    "name": "ipython",
    "version": 3
   },
   "file_extension": ".py",
   "mimetype": "text/x-python",
   "name": "python",
   "nbconvert_exporter": "python",
   "pygments_lexer": "ipython3",
   "version": "3.7.2"
  }
 },
 "nbformat": 4,
 "nbformat_minor": 2
}
