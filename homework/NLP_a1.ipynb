{
 "cells": [
  {
   "cell_type": "markdown",
   "metadata": {},
   "source": [
    "# DIGS 20006/30006 : NLP Assignment 1"
   ]
  },
  {
   "cell_type": "code",
   "execution_count": 2,
   "metadata": {},
   "outputs": [],
   "source": [
    "import nltk\n",
    "import matplotlib\n",
    "import matplotlib.pyplot as plt\n",
    "%matplotlib inline  "
   ]
  },
  {
   "cell_type": "code",
   "execution_count": 3,
   "metadata": {},
   "outputs": [
    {
     "name": "stdout",
     "output_type": "stream",
     "text": [
      "*** Introductory Examples for the NLTK Book ***\n",
      "Loading text1, ..., text9 and sent1, ..., sent9\n",
      "Type the name of the text or sentence to view it.\n",
      "Type: 'texts()' or 'sents()' to list the materials.\n",
      "text1: Moby Dick by Herman Melville 1851\n",
      "text2: Sense and Sensibility by Jane Austen 1811\n",
      "text3: The Book of Genesis\n",
      "text4: Inaugural Address Corpus\n",
      "text5: Chat Corpus\n",
      "text6: Monty Python and the Holy Grail\n",
      "text7: Wall Street Journal\n",
      "text8: Personals Corpus\n",
      "text9: The Man Who Was Thursday by G . K . Chesterton 1908\n"
     ]
    }
   ],
   "source": [
    "from nltk.book import*"
   ]
  },
  {
   "cell_type": "code",
   "execution_count": 4,
   "metadata": {},
   "outputs": [
    {
     "data": {
      "text/plain": [
       "<Text: Sense and Sensibility by Jane Austen 1811>"
      ]
     },
     "execution_count": 4,
     "metadata": {},
     "output_type": "execute_result"
    }
   ],
   "source": [
    "#I chose text2 to be my text\n",
    "text2"
   ]
  },
  {
   "cell_type": "markdown",
   "metadata": {},
   "source": [
    "## Q1 an adjective of my choice"
   ]
  },
  {
   "cell_type": "code",
   "execution_count": 4,
   "metadata": {},
   "outputs": [
    {
     "name": "stdout",
     "output_type": "stream",
     "text": [
      "Displaying 12 of 12 matches:\n",
      "ardly keep my seat . To hear those beautiful lines which have frequently almost\n",
      "ole country about them abounded in beautiful walks . The high downs which invit\n",
      " cant of praise , she was called a beautiful girl , truth was less violently ou\n",
      "grounds were declared to be highly beautiful , and Sir John , who was particula\n",
      " - green , behind the house , to a beautiful hanging wood , and on the other yo\n",
      "deur , is our cottage .\" \" It is a beautiful country ,\" he replied ; \" but thes\n",
      "o examine them . \" Oh ! dear , how beautiful these are ! Well ! how delightful \n",
      "rd at Exeter that you are the most beautiful creatures in the world ; and I hav\n",
      "he was . \" Norland is a prodigious beautiful place , is not it ?\" added Miss St\n",
      " whom they declared to be the most beautiful , elegant , accomplished , and agr\n",
      "the particulars , was so fine , so beautiful a Sunday as to draw many to Kensin\n",
      "ing of agony it was !-- Marianne , beautiful as an angel on one side , calling \n"
     ]
    }
   ],
   "source": [
    "text2.concordance(\"beautiful\")"
   ]
  },
  {
   "cell_type": "markdown",
   "metadata": {},
   "source": [
    "## Q2 Similiar words"
   ]
  },
  {
   "cell_type": "code",
   "execution_count": 8,
   "metadata": {},
   "outputs": [
    {
     "name": "stdout",
     "output_type": "stream",
     "text": [
      "pretty by long large respectable good great s young important\n",
      "considerable is little keen tender quiet considered stout serious\n",
      "richer\n"
     ]
    }
   ],
   "source": [
    "text2.similar(\"beautiful\")"
   ]
  },
  {
   "cell_type": "markdown",
   "metadata": {},
   "source": [
    "19 words are detected to be similar to \"beautiful\", as far as I am concern, \"pretty\" is the most similar one; \n",
    "\"young\" is somewhat similar interestingly; \"good\" makes senses too. Other words are not that similar."
   ]
  },
  {
   "cell_type": "markdown",
   "metadata": {},
   "source": [
    "## Q3 Common contexts "
   ]
  },
  {
   "cell_type": "code",
   "execution_count": 13,
   "metadata": {},
   "outputs": [
    {
     "name": "stdout",
     "output_type": "stream",
     "text": [
      "a_girl so_a\n"
     ]
    }
   ],
   "source": [
    "text2.common_contexts([\"beautiful\", \"pretty\"])"
   ]
  },
  {
   "cell_type": "markdown",
   "metadata": {},
   "source": [
    "## Q4 Dispersion plot"
   ]
  },
  {
   "cell_type": "code",
   "execution_count": 9,
   "metadata": {},
   "outputs": [
    {
     "data": {
      "image/png": "[encoded data removed]",
      "text/plain": [
       "<Figure size 432x288 with 1 Axes>"
      ]
     },
     "metadata": {
      "needs_background": "light"
     },
     "output_type": "display_data"
    }
   ],
   "source": [
    "text2.dispersion_plot([\"beautiful\", \"pretty\"])"
   ]
  },
  {
   "cell_type": "markdown",
   "metadata": {},
   "source": [
    "## Q5 Raw length"
   ]
  },
  {
   "cell_type": "code",
   "execution_count": 11,
   "metadata": {},
   "outputs": [
    {
     "data": {
      "text/plain": [
       "141576"
      ]
     },
     "execution_count": 11,
     "metadata": {},
     "output_type": "execute_result"
    }
   ],
   "source": [
    "len(text2)"
   ]
  },
  {
   "cell_type": "markdown",
   "metadata": {},
   "source": [
    "## Q6 Count the  chosen word"
   ]
  },
  {
   "cell_type": "code",
   "execution_count": 12,
   "metadata": {},
   "outputs": [
    {
     "data": {
      "text/plain": [
       "12"
      ]
     },
     "execution_count": 12,
     "metadata": {},
     "output_type": "execute_result"
    }
   ],
   "source": [
    "text2.count(\"beautiful\")"
   ]
  },
  {
   "cell_type": "markdown",
   "metadata": {},
   "source": [
    "## Q7 Count the token "
   ]
  },
  {
   "cell_type": "code",
   "execution_count": 13,
   "metadata": {},
   "outputs": [
    {
     "data": {
      "text/plain": [
       "6833"
      ]
     },
     "execution_count": 13,
     "metadata": {},
     "output_type": "execute_result"
    }
   ],
   "source": [
    "len(set(text2))"
   ]
  },
  {
   "cell_type": "markdown",
   "metadata": {},
   "source": [
    "## Q8 Lexical Diversity Score"
   ]
  },
  {
   "cell_type": "code",
   "execution_count": 14,
   "metadata": {},
   "outputs": [],
   "source": [
    "def lex_score(text):\n",
    "    return len(set(text))/len(text)"
   ]
  },
  {
   "cell_type": "code",
   "execution_count": 48,
   "metadata": {},
   "outputs": [
    {
     "name": "stdout",
     "output_type": "stream",
     "text": [
      "<Text: Moby Dick by Herman Melville 1851>\n",
      "0.07406285585022564\n",
      "\n",
      "<Text: Sense and Sensibility by Jane Austen 1811>\n",
      "0.04826383002768831\n",
      "\n",
      "<Text: The Book of Genesis>\n",
      "0.06230453042623537\n",
      "\n",
      "<Text: Inaugural Address Corpus>\n",
      "0.06692970116993173\n",
      "\n",
      "<Text: Chat Corpus>\n",
      "0.13477005109975562\n",
      "\n",
      "<Text: Monty Python and the Holy Grail>\n",
      "0.1276595744680851\n",
      "\n",
      "<Text: Wall Street Journal>\n",
      "0.12324685128531129\n",
      "\n",
      "<Text: Personals Corpus>\n",
      "0.22765564002465585\n",
      "\n",
      "<Text: The Man Who Was Thursday by G . K . Chesterton 1908>\n",
      "0.0983485761345412\n",
      "\n"
     ]
    }
   ],
   "source": [
    "tlist = [text1, text2, text3, text4, text5, text6, text7, text8, text9]\n",
    "ts = {}\n",
    "for i in range(9):\n",
    "    txt = tlist[i]\n",
    "    ts[i+1] = lex_score(txt)\n",
    "    print(txt)\n",
    "    print(lex_score(txt))\n",
    "    print()"
   ]
  },
  {
   "cell_type": "code",
   "execution_count": 36,
   "metadata": {},
   "outputs": [
    {
     "data": {
      "text/plain": [
       "{1: 0.07406285585022564,\n",
       " 2: 0.04826383002768831,\n",
       " 3: 0.06230453042623537,\n",
       " 4: 0.06692970116993173,\n",
       " 5: 0.13477005109975562,\n",
       " 6: 0.1276595744680851,\n",
       " 7: 0.12324685128531129,\n",
       " 8: 0.22765564002465585,\n",
       " 9: 0.0983485761345412}"
      ]
     },
     "execution_count": 36,
     "metadata": {},
     "output_type": "execute_result"
    }
   ],
   "source": [
    "ts"
   ]
  },
  {
   "cell_type": "code",
   "execution_count": 37,
   "metadata": {},
   "outputs": [],
   "source": [
    "import pandas as pd"
   ]
  },
  {
   "cell_type": "code",
   "execution_count": 42,
   "metadata": {},
   "outputs": [
    {
     "data": {
      "text/plain": [
       "<matplotlib.axes._subplots.AxesSubplot at 0x12780d0f0>"
      ]
     },
     "execution_count": 42,
     "metadata": {},
     "output_type": "execute_result"
    },
    {
     "data": {
      "image/png": "[encoded data removed]",
      "text/plain": [
       "<Figure size 432x288 with 1 Axes>"
      ]
     },
     "metadata": {
      "needs_background": "light"
     },
     "output_type": "display_data"
    }
   ],
   "source": [
    "df = pd.Series(ts)\n",
    "df.plot.bar()"
   ]
  },
  {
   "cell_type": "markdown",
   "metadata": {},
   "source": [
    "Comments: I can see the lexical diversity score of text2 \"Sense and Sensibility\" is the lowest. This makes intuitive sense since this text is written by a solo author Jane Austen in 1811 which is the earliest among all the texts. Even though \"Moby Dick\" and \"The Man Who Was Thursday\" are also written by solo authors. Both books came out later than 1811, the usage of new words and pharses may explain why they have a higher score. Another interesting different fact is Jane Austen is a female author, the other two are male. \"Personals Corpus\" has the highest lexical diversity score, which may due to the fact it has several contributors/writers."
   ]
  },
  {
   "cell_type": "markdown",
   "metadata": {},
   "source": [
    "## Q9 Lexical Diversity Score of Slice"
   ]
  },
  {
   "cell_type": "code",
   "execution_count": 49,
   "metadata": {},
   "outputs": [],
   "source": [
    "mni = text2[40000:100000]"
   ]
  },
  {
   "cell_type": "code",
   "execution_count": 59,
   "metadata": {},
   "outputs": [
    {
     "name": "stdout",
     "output_type": "stream",
     "text": [
      "Length of the slice is 58424\n",
      "The count of word 'beautiful' is 4\n",
      "Number of token is 4451\n",
      "Lexical diversity score of slice 0.0761844447487334\n",
      "Lexical diversity score of the original text 0.04826383002768831\n"
     ]
    }
   ],
   "source": [
    "print(\"Length of the slice is\", len(mni))\n",
    "print(\"The count of word 'beautiful' is\", str(mni.count('beautiful')))\n",
    "print(\"Number of token is\", len(set(mni)))\n",
    "print(\"Lexical diversity score of slice\", lex_score(mni))\n",
    "print(\"Lexical diversity score of the original text\", lex_score(text2))"
   ]
  },
  {
   "cell_type": "markdown",
   "metadata": {},
   "source": [
    "Comment: the lexical diversity score for the slice is higher than the score for my text as a whole. I think it makes sense since what we are examining is literature not normally distributed sample. The lexical diversity score for a slice will not be consistent as the score for the whole text. My slice is taken from the middle of the text. I guess it may be the reason why the lexical diversity score is higher than the total score. Since the middle part of the story should be the most interesting part comparing to the beginning or the end."
   ]
  },
  {
   "cell_type": "markdown",
   "metadata": {},
   "source": [
    "## Q10 The most common 50 words"
   ]
  },
  {
   "cell_type": "code",
   "execution_count": 60,
   "metadata": {},
   "outputs": [
    {
     "data": {
      "text/plain": [
       "[(',', 9397),\n",
       " ('to', 4063),\n",
       " ('.', 3975),\n",
       " ('the', 3861),\n",
       " ('of', 3565),\n",
       " ('and', 3350),\n",
       " ('her', 2436),\n",
       " ('a', 2043),\n",
       " ('I', 2004),\n",
       " ('in', 1904),\n",
       " ('was', 1846),\n",
       " ('it', 1568),\n",
       " ('\"', 1506),\n",
       " (';', 1419),\n",
       " ('she', 1333),\n",
       " ('be', 1305),\n",
       " ('that', 1297),\n",
       " ('for', 1234),\n",
       " ('not', 1212),\n",
       " ('as', 1179),\n",
       " ('you', 1037),\n",
       " ('with', 971),\n",
       " ('had', 969),\n",
       " ('his', 941),\n",
       " ('he', 895),\n",
       " (\"'\", 883),\n",
       " ('have', 807),\n",
       " ('at', 806),\n",
       " ('by', 737),\n",
       " ('is', 728),\n",
       " ('.\"', 721),\n",
       " ('s', 700),\n",
       " ('Elinor', 684),\n",
       " ('on', 676),\n",
       " ('all', 642),\n",
       " ('him', 633),\n",
       " ('so', 617),\n",
       " ('but', 597),\n",
       " ('which', 592),\n",
       " ('could', 568),\n",
       " ('Marianne', 566),\n",
       " ('my', 551),\n",
       " ('Mrs', 530),\n",
       " ('from', 527),\n",
       " ('would', 507),\n",
       " ('very', 492),\n",
       " ('no', 488),\n",
       " ('their', 463),\n",
       " ('them', 462),\n",
       " ('--', 461)]"
      ]
     },
     "execution_count": 60,
     "metadata": {},
     "output_type": "execute_result"
    }
   ],
   "source": [
    "FreqDist(text2).most_common(50)"
   ]
  },
  {
   "cell_type": "markdown",
   "metadata": {},
   "source": [
    "None of them are surprising to me cause they do not really reveal any contents of the book. My guess is Marianne and Elinor might be the leading charactors of the book. "
   ]
  },
  {
   "cell_type": "code",
   "execution_count": 63,
   "metadata": {},
   "outputs": [
    {
     "data": {
      "text/plain": [
       "['Disappointment',\n",
       " 'INconvenience',\n",
       " 'Prescriptions',\n",
       " 'Somersetshire',\n",
       " 'Unaccountable',\n",
       " 'accommodating',\n",
       " 'accommodation',\n",
       " 'accommodations',\n",
       " 'accomplishment',\n",
       " 'acknowledging',\n",
       " 'acknowledgment',\n",
       " 'acknowledgments',\n",
       " 'acquaintances',\n",
       " 'administering',\n",
       " 'affectionately',\n",
       " 'aggrandizement',\n",
       " 'anticipations',\n",
       " 'apprehensions',\n",
       " 'circumspection',\n",
       " 'circumstanced',\n",
       " 'circumstances',\n",
       " 'commiseration',\n",
       " 'communicating',\n",
       " 'communication',\n",
       " 'communicative',\n",
       " 'companionableness',\n",
       " 'comparatively',\n",
       " 'compassionate',\n",
       " 'comprehension',\n",
       " 'congratulated',\n",
       " 'congratulating',\n",
       " 'congratulations',\n",
       " 'connoisseurship',\n",
       " 'conscientious',\n",
       " 'conscientiously',\n",
       " 'consciousness',\n",
       " 'considerately',\n",
       " 'consideration',\n",
       " 'considerations',\n",
       " 'consternation',\n",
       " 'constitutional',\n",
       " 'contemptuously',\n",
       " 'contradictory',\n",
       " 'conversations',\n",
       " 'correspondence',\n",
       " 'demonstrations',\n",
       " 'determination',\n",
       " 'disagreements',\n",
       " 'disappointing',\n",
       " 'disappointment',\n",
       " 'disappointments',\n",
       " 'disapprobation',\n",
       " 'discrimination',\n",
       " 'disengagement',\n",
       " 'disinclination',\n",
       " 'disinterested',\n",
       " 'disinterestedness',\n",
       " 'disproportion',\n",
       " 'disqualifications',\n",
       " 'disrespectfully',\n",
       " 'dissatisfaction',\n",
       " 'distinguished',\n",
       " 'distinguishing',\n",
       " 'embarrassment',\n",
       " 'embellishment',\n",
       " 'embellishments',\n",
       " 'encouragement',\n",
       " 'encouragements',\n",
       " 'encroachments',\n",
       " 'enfranchisement',\n",
       " 'entertainment',\n",
       " 'establishment',\n",
       " 'expeditiously',\n",
       " 'expensiveness',\n",
       " 'extraordinary',\n",
       " 'felicitations',\n",
       " 'gentlemanlike',\n",
       " 'gratification',\n",
       " 'imperfections',\n",
       " 'impertinently',\n",
       " 'impossibility',\n",
       " 'impoverishing',\n",
       " 'impracticable',\n",
       " 'incautiousness',\n",
       " 'incomprehensible',\n",
       " 'inconsiderable',\n",
       " 'inconsiderately',\n",
       " 'inconsistency',\n",
       " 'inconvenience',\n",
       " 'inconveniences',\n",
       " 'indefatigable',\n",
       " 'independently',\n",
       " 'indispensable',\n",
       " 'indispensably',\n",
       " 'indisposition',\n",
       " 'inexperienced',\n",
       " 'inquisitiveness',\n",
       " 'insensibility',\n",
       " 'insignificance',\n",
       " 'instantaneous',\n",
       " 'instantaneously',\n",
       " 'insufficiency',\n",
       " 'insurmountable',\n",
       " 'intentionally',\n",
       " 'intrinsically',\n",
       " 'investigation',\n",
       " 'involuntarily',\n",
       " 'irreconcilable',\n",
       " 'irrepressible',\n",
       " 'irreproachable',\n",
       " 'justification',\n",
       " 'misapprehension',\n",
       " 'misconstruction',\n",
       " 'misunderstood',\n",
       " 'mortification',\n",
       " 'neighbourhood',\n",
       " 'opportunities',\n",
       " 'overspreading',\n",
       " 'particularity',\n",
       " 'philanthropic',\n",
       " 'prepossessing',\n",
       " 'prepossession',\n",
       " 'probabilities',\n",
       " 'proportionately',\n",
       " 'protestations',\n",
       " 'qualification',\n",
       " 'qualifications',\n",
       " 'reasonableness',\n",
       " 'recommendation',\n",
       " 'reconciliation',\n",
       " 'representation',\n",
       " 'representations',\n",
       " 'reproachfully',\n",
       " 'respectability',\n",
       " 'resuscitation',\n",
       " 'significantly',\n",
       " 'solicitations',\n",
       " 'strengthening',\n",
       " 'superannuated',\n",
       " 'thoughtfulness',\n",
       " 'unaccountable',\n",
       " 'unaccountably',\n",
       " 'unacknowledged',\n",
       " 'uncomfortable',\n",
       " 'unconquerable',\n",
       " 'understanding',\n",
       " 'unembarrassed',\n",
       " 'unexhilarating',\n",
       " 'unfashionable',\n",
       " 'unfortunately',\n",
       " 'unintelligible',\n",
       " 'unintentional',\n",
       " 'uninteresting',\n",
       " 'unjustifiable',\n",
       " 'unobtrusiveness',\n",
       " 'unpleasantest',\n",
       " 'unpleasantness',\n",
       " 'unpremeditated',\n",
       " 'unsuitableness',\n",
       " 'unwillingness']"
      ]
     },
     "execution_count": 63,
     "metadata": {},
     "output_type": "execute_result"
    }
   ],
   "source": [
    "tk = set(text2)\n",
    "long_words = [w for w in tk if len(w)>12]\n",
    "sorted(long_words)"
   ]
  },
  {
   "cell_type": "markdown",
   "metadata": {},
   "source": [
    "## Q12 Collocations "
   ]
  },
  {
   "cell_type": "code",
   "execution_count": 64,
   "metadata": {},
   "outputs": [
    {
     "name": "stdout",
     "output_type": "stream",
     "text": [
      "Colonel Brandon; Sir John; Lady Middleton; Miss Dashwood; every thing;\n",
      "thousand pounds; dare say; Miss Steeles; said Elinor; Miss Steele;\n",
      "every body; John Dashwood; great deal; Harley Street; Berkeley Street;\n",
      "Miss Dashwoods; young man; Combe Magna; every day; next morning\n"
     ]
    }
   ],
   "source": [
    "text2.collocations()"
   ]
  },
  {
   "cell_type": "markdown",
   "metadata": {},
   "source": [
    "## Q13 Top 10 most frequent word length"
   ]
  },
  {
   "cell_type": "code",
   "execution_count": 65,
   "metadata": {},
   "outputs": [],
   "source": [
    "#Sense and Sensibility\n",
    "fdist = FreqDist(len(w) for w in text2)"
   ]
  },
  {
   "cell_type": "code",
   "execution_count": 68,
   "metadata": {},
   "outputs": [
    {
     "data": {
      "text/plain": [
       "[(3, 28839),\n",
       " (2, 24826),\n",
       " (1, 23009),\n",
       " (4, 21352),\n",
       " (5, 11438),\n",
       " (6, 9507),\n",
       " (7, 8158),\n",
       " (8, 5676),\n",
       " (9, 3736),\n",
       " (10, 2596)]"
      ]
     },
     "execution_count": 68,
     "metadata": {},
     "output_type": "execute_result"
    }
   ],
   "source": [
    "fdist.most_common(10)"
   ]
  },
  {
   "cell_type": "code",
   "execution_count": 69,
   "metadata": {},
   "outputs": [
    {
     "data": {
      "text/plain": [
       "[(1, 1455),\n",
       " (4, 752),\n",
       " (3, 565),\n",
       " (2, 555),\n",
       " (5, 458),\n",
       " (6, 373),\n",
       " (7, 306),\n",
       " (8, 148),\n",
       " (10, 88),\n",
       " (9, 79)]"
      ]
     },
     "execution_count": 69,
     "metadata": {},
     "output_type": "execute_result"
    }
   ],
   "source": [
    "fdist8 = FreqDist(len(w) for w in text8)\n",
    "fdist8.most_common(10)"
   ]
  },
  {
   "cell_type": "markdown",
   "metadata": {},
   "source": [
    "comments: It's unsurprising that the 3-letter-words win in a literature like \"Sense and Sensibility\"; The distribution for text2 is particularly different from text8; It's surprising that the 1-letter-words win in \"Personals Corpus\"."
   ]
  },
  {
   "cell_type": "code",
   "execution_count": null,
   "metadata": {},
   "outputs": [],
   "source": []
  }
 ],
 "metadata": {
  "kernelspec": {
   "display_name": "Python 3",
   "language": "python",
   "name": "python3"
  },
  "language_info": {
   "codemirror_mode": {
    "name": "ipython",
    "version": 3
   },
   "file_extension": ".py",
   "mimetype": "text/x-python",
   "name": "python",
   "nbconvert_exporter": "python",
   "pygments_lexer": "ipython3",
   "version": "3.7.2"
  }
 },
 "nbformat": 4,
 "nbformat_minor": 2
}
